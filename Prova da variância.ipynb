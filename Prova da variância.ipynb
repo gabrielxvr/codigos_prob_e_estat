{
 "cells": [
  {
   "cell_type": "code",
   "execution_count": 96,
   "id": "10fb74f2-214c-41b5-983a-e1708d3d0282",
   "metadata": {},
   "outputs": [],
   "source": [
    "import numpy as np\n",
    "import random as rd\n",
    "import pandas as pd\n",
    "import matplotlib.pyplot as plt\n",
    "import seaborn as sns"
   ]
  },
  {
   "cell_type": "code",
   "execution_count": null,
   "id": "1faffb94-e3f0-46b8-94ef-1a00503090c0",
   "metadata": {},
   "outputs": [],
   "source": [
    "testes = [10, 100, 1000, 10000, 100000, 1000000, 10000000]"
   ]
  },
  {
   "cell_type": "code",
   "execution_count": 102,
   "id": "7e9126af-a270-469e-8511-ed14de2e643f",
   "metadata": {},
   "outputs": [],
   "source": [
    "razoes = []\n",
    "\n",
    "for j in testes:\n",
    "    lista_1 = list(range(j))\n",
    "    lista_2 = list(range(j))\n",
    "    \n",
    "    rd.shuffle(lista_1)\n",
    "    rd.shuffle(lista_2)\n",
    "    \n",
    "    lista_3 = []\n",
    "\n",
    "    for i in range(len(lista_1)):\n",
    "        lista_3.append(lista_1[i] + lista_2[i])\n",
    "    \n",
    "    soma_variancias = np.var(lista_1) + np.var(lista_2)\n",
    "    variancia_somas = np.var(lista_3)\n",
    "    \n",
    "    razao = variancia_somas/soma_variancias\n",
    "    razoes.append(razao)"
   ]
  },
  {
   "cell_type": "code",
   "execution_count": 110,
   "id": "6325ec5a-0d55-43c5-a508-a2a8af3ff6b8",
   "metadata": {},
   "outputs": [],
   "source": [
    "testes_razoes = {\"Testes\": testes,\n",
    "                \"Razões\": razoes\n",
    "               }\n",
    "\n",
    "df_testes_razoes = pd.DataFrame.from_dict(testes_razoes)"
   ]
  },
  {
   "cell_type": "code",
   "execution_count": 113,
   "id": "7c7f453d-0c03-4c49-8448-1b9b8ec43cf2",
   "metadata": {},
   "outputs": [
    {
     "data": {
      "image/png": "[encoded data removed]",
      "text/plain": [
       "<Figure size 432x288 with 1 Axes>"
      ]
     },
     "metadata": {
      "needs_background": "light"
     },
     "output_type": "display_data"
    }
   ],
   "source": [
    "fig = plt.figure()\n",
    "ax1 = fig.add_subplot(111)\n",
    "df_testes_razoes.plot('Testes','Razões',legend=False, ax=ax1, kind = 'scatter', linewidth = 2.5, color = 'blue')\n",
    "df_testes_razoes.plot('Testes','Razões',legend=False, ax=ax1, kind = 'line', linewidth = 2.5, color = 'black')\n",
    "plt.xlabel('Tamanho do conjunto')\n",
    "plt.ylabel('Razão entre var(X+Y) e var(X) + var(Y)')\n",
    "plt.xscale(\"log\")\n",
    "plt.savefig('Variância da soma.png', dpi=100, format='png', facecolor='white')\n",
    "plt.show()"
   ]
  },
  {
   "cell_type": "code",
   "execution_count": null,
   "id": "05f851dd-4e0c-4bb0-b363-05cb6a86a9f2",
   "metadata": {},
   "outputs": [],
   "source": []
  }
 ],
 "metadata": {
  "kernelspec": {
   "display_name": "ilumpy",
   "language": "python",
   "name": "ilumpy"
  },
  "language_info": {
   "codemirror_mode": {
    "name": "ipython",
    "version": 3
   },
   "file_extension": ".py",
   "mimetype": "text/x-python",
   "name": "python",
   "nbconvert_exporter": "python",
   "pygments_lexer": "ipython3",
   "version": "3.9.7"
  }
 },
 "nbformat": 4,
 "nbformat_minor": 5
}
