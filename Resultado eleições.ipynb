{
 "cells": [
  {
   "cell_type": "code",
   "execution_count": 27,
   "id": "e100858c-bf7d-4e5f-ab00-3f3f191758fc",
   "metadata": {},
   "outputs": [],
   "source": [
    "import numpy as np"
   ]
  },
  {
   "cell_type": "code",
   "execution_count": 28,
   "id": "0606410a-fc70-4677-93f9-d6a4d5cb59e9",
   "metadata": {},
   "outputs": [],
   "source": [
    "y = [53.02, 61.27, 60.83, 56.05, 51.64, 55.13]\n",
    "x1 = [30.48, 46.44, 48.61, 46.91, 41.59, 46.03]\n",
    "x2 = [17.19, 27.02, 41.64, 32.61, 33.55, 29.28]"
   ]
  },
  {
   "cell_type": "code",
   "execution_count": 29,
   "id": "40d2d812-ef17-4402-b6c3-024c7d28d763",
   "metadata": {},
   "outputs": [
    {
     "name": "stdout",
     "output_type": "stream",
     "text": [
      "11497.673200000001\n"
     ]
    }
   ],
   "source": [
    "s11 = 0\n",
    "for i in x1:\n",
    "    s11 = s11 + i**2\n",
    "    \n",
    "print(s11)"
   ]
  },
  {
   "cell_type": "code",
   "execution_count": 30,
   "id": "94d8ef02-758b-43dd-ae1d-bc14b17ad31c",
   "metadata": {},
   "outputs": [
    {
     "name": "stdout",
     "output_type": "stream",
     "text": [
      "8075.7184\n"
     ]
    }
   ],
   "source": [
    "s12 = 0\n",
    "for i in range(len(x1)):\n",
    "    s12 = s12 + x1[i]*x2[i]\n",
    "    \n",
    "print(s12)"
   ]
  },
  {
   "cell_type": "code",
   "execution_count": 31,
   "id": "34eba373-eddf-486e-b416-cafb7c968b51",
   "metadata": {},
   "outputs": [
    {
     "name": "stdout",
     "output_type": "stream",
     "text": [
      "260.06\n"
     ]
    }
   ],
   "source": [
    "s13 = 0\n",
    "for i in x1:\n",
    "    s13 = s13 + i\n",
    "    \n",
    "print(s13)"
   ]
  },
  {
   "cell_type": "code",
   "execution_count": 32,
   "id": "904c48ba-3b16-40e7-8490-22c9668da79d",
   "metadata": {},
   "outputs": [
    {
     "name": "stdout",
     "output_type": "stream",
     "text": [
      "5805.7991\n"
     ]
    }
   ],
   "source": [
    "s22 = 0\n",
    "for i in x2:\n",
    "    s22 = s22 + i**2\n",
    "    \n",
    "print(s22)"
   ]
  },
  {
   "cell_type": "code",
   "execution_count": 33,
   "id": "58f8988a-2427-41b1-9aaf-370c0f49a478",
   "metadata": {},
   "outputs": [
    {
     "name": "stdout",
     "output_type": "stream",
     "text": [
      "181.29\n"
     ]
    }
   ],
   "source": [
    "s23 = 0\n",
    "for i in x2:\n",
    "    s23 = s23 + i\n",
    "    \n",
    "print(s23)"
   ]
  },
  {
   "cell_type": "code",
   "execution_count": 34,
   "id": "7c321e7c-4854-4fd2-a019-60873554563c",
   "metadata": {},
   "outputs": [
    {
     "name": "stdout",
     "output_type": "stream",
     "text": [
      "6\n"
     ]
    }
   ],
   "source": [
    "s33 = len(x1)\n",
    "\n",
    "print(s33)"
   ]
  },
  {
   "cell_type": "code",
   "execution_count": 35,
   "id": "95e7e042-4665-439b-a9af-daf03c1574af",
   "metadata": {},
   "outputs": [
    {
     "name": "stdout",
     "output_type": "stream",
     "text": [
      "14733.0217\n"
     ]
    }
   ],
   "source": [
    "i1 = 0\n",
    "\n",
    "for i in range(len(x1)):\n",
    "    i1 = i1 + y[i]*x1[i]\n",
    "    \n",
    "print(i1)"
   ]
  },
  {
   "cell_type": "code",
   "execution_count": 36,
   "id": "3fa4f853-1d4f-42d4-b18b-86000e37fe46",
   "metadata": {},
   "outputs": [
    {
     "name": "stdout",
     "output_type": "stream",
     "text": [
      "10274.4093\n"
     ]
    }
   ],
   "source": [
    "i2 = 0\n",
    "\n",
    "for i in range(len(x2)):\n",
    "    i2 = i2 + y[i]*x2[i]\n",
    "    \n",
    "print(i2)"
   ]
  },
  {
   "cell_type": "code",
   "execution_count": 37,
   "id": "c2b0b219-4e47-498d-b038-a2f9cf8b7224",
   "metadata": {},
   "outputs": [
    {
     "name": "stdout",
     "output_type": "stream",
     "text": [
      "337.94\n"
     ]
    }
   ],
   "source": [
    "i3 = 0\n",
    "for i in y:\n",
    "    i3 = i3 + i\n",
    "    \n",
    "print(i3)"
   ]
  },
  {
   "cell_type": "code",
   "execution_count": 38,
   "id": "d3f7cf3b-8869-4d00-942f-ef95088711b8",
   "metadata": {},
   "outputs": [
    {
     "name": "stdout",
     "output_type": "stream",
     "text": [
      "[ 0.53545123 -0.16207128 38.01207609]\n"
     ]
    }
   ],
   "source": [
    "A = np.array([[s11, s12, s13],\n",
    "              [s12, s22, s23],\n",
    "              [s13, s23, s33]])\n",
    "\n",
    "b = np.array([i1, i2, i3])\n",
    "\n",
    "x = np.linalg.solve(A, b)\n",
    "print(x)"
   ]
  },
  {
   "cell_type": "code",
   "execution_count": 39,
   "id": "71d7f6c6-978e-46ec-8c8c-39d23eca6f35",
   "metadata": {},
   "outputs": [],
   "source": [
    "def f(x1, x2):\n",
    "    return x[0]*x1 + x[1]*x2 + x[2]"
   ]
  },
  {
   "cell_type": "code",
   "execution_count": 40,
   "id": "269b6994-3445-4e37-a748-7f8d5680eda6",
   "metadata": {},
   "outputs": [
    {
     "data": {
      "text/plain": [
       "56.94249965289757"
      ]
     },
     "execution_count": 40,
     "metadata": {},
     "output_type": "execute_result"
    }
   ],
   "source": [
    "f(48.43, 43.2)"
   ]
  },
  {
   "cell_type": "code",
   "execution_count": null,
   "id": "45a6e410-3712-4b6d-b9a6-f2d2453b2b24",
   "metadata": {},
   "outputs": [],
   "source": []
  }
 ],
 "metadata": {
  "kernelspec": {
   "display_name": "ilumpy",
   "language": "python",
   "name": "ilumpy"
  },
  "language_info": {
   "codemirror_mode": {
    "name": "ipython",
    "version": 3
   },
   "file_extension": ".py",
   "mimetype": "text/x-python",
   "name": "python",
   "nbconvert_exporter": "python",
   "pygments_lexer": "ipython3",
   "version": "3.9.7"
  }
 },
 "nbformat": 4,
 "nbformat_minor": 5
}
